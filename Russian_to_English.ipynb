{
  "nbformat": 4,
  "nbformat_minor": 0,
  "metadata": {
    "accelerator": "GPU",
    "colab": {
      "name": "Russian_to_English.ipynb",
      "provenance": [],
      "collapsed_sections": [],
      "machine_shape": "hm"
    },
    "kernelspec": {
      "display_name": "Python 3",
      "language": "python",
      "name": "python3"
    },
    "language_info": {
      "codemirror_mode": {
        "name": "ipython",
        "version": 3
      },
      "file_extension": ".py",
      "mimetype": "text/x-python",
      "name": "python",
      "nbconvert_exporter": "python",
      "pygments_lexer": "ipython3",
      "version": "3.6.6"
    }
  },
  "cells": [
    {
      "cell_type": "markdown",
      "metadata": {
        "id": "HPYoLQCSHLWu"
      },
      "source": [
        "## **Import the Required Libraries**"
      ]
    },
    {
      "cell_type": "code",
      "metadata": {
        "id": "YneRDXwFHLWw"
      },
      "source": [
        "import string\n",
        "import re\n",
        "from numpy import array, argmax, random, take\n",
        "import pandas as pd\n",
        "from keras.models import Sequential\n",
        "from keras.layers import Dense, LSTM, Embedding, Dropout, RepeatVector, TimeDistributed\n",
        "from keras.preprocessing.text import Tokenizer\n",
        "from keras.callbacks import ModelCheckpoint\n",
        "from keras.preprocessing.sequence import pad_sequences\n",
        "from keras.models import load_model\n",
        "from keras import optimizers\n",
        "from sklearn.model_selection import train_test_split\n",
        "import matplotlib.pyplot as plt\n",
        "from keras.utils.vis_utils import plot_model\n",
        "from tensorflow.keras.regularizers import l2\n",
        "% matplotlib inline\n",
        "pd.set_option('display.max_colwidth', 200)"
      ],
      "execution_count": 2,
      "outputs": []
    },
    {
      "cell_type": "markdown",
      "metadata": {
        "id": "gGz8q47HiKaq"
      },
      "source": [
        "Let's download the source file and extract it."
      ]
    },
    {
      "cell_type": "code",
      "metadata": {
        "colab": {
          "base_uri": "https://localhost:8080/"
        },
        "id": "zw3KsA7QHPlM",
        "outputId": "367e4b0a-543f-4269-807b-b8ad2aab5833"
      },
      "source": [
        "import os\n",
        "# Downloading the dataset zip file\n",
        "if (not os.path.exists(\"rus-engy.zip\")):\n",
        "  # Download the dataset file if not exists\n",
        "  !wget http://www.manythings.org/anki/rus-eng.zip\n",
        "\n",
        "!unzip rus-eng.zip"
      ],
      "execution_count": 3,
      "outputs": [
        {
          "output_type": "stream",
          "text": [
            "--2021-08-09 08:13:37--  http://www.manythings.org/anki/rus-eng.zip\n",
            "Resolving www.manythings.org (www.manythings.org)... 104.21.92.44, 172.67.186.54, 2606:4700:3033::ac43:ba36, ...\n",
            "Connecting to www.manythings.org (www.manythings.org)|104.21.92.44|:80... connected.\n",
            "HTTP request sent, awaiting response... 200 OK\n",
            "Length: 14385451 (14M) [application/zip]\n",
            "Saving to: ‘rus-eng.zip.1’\n",
            "\n",
            "rus-eng.zip.1       100%[===================>]  13.72M  5.50MB/s    in 2.5s    \n",
            "\n",
            "2021-08-09 08:13:40 (5.50 MB/s) - ‘rus-eng.zip.1’ saved [14385451/14385451]\n",
            "\n",
            "Archive:  rus-eng.zip\n",
            "replace rus.txt? [y]es, [n]o, [A]ll, [N]one, [r]ename: y\n",
            "  inflating: rus.txt                 \n",
            "replace _about.txt? [y]es, [n]o, [A]ll, [N]one, [r]ename: y\n",
            "  inflating: _about.txt              \n"
          ],
          "name": "stdout"
        }
      ]
    },
    {
      "cell_type": "code",
      "metadata": {
        "colab": {
          "base_uri": "https://localhost:8080/"
        },
        "id": "vm-isTMViPqB",
        "outputId": "00d2cf85-72f8-417b-adbb-fb47567aa970"
      },
      "source": [
        "# Check the contents of the file\n",
        "file = open(\"rus.txt\", \"r\")\n",
        "lines = file.readlines()\n",
        "for i in range(5):\n",
        "  print(lines[i])"
      ],
      "execution_count": 4,
      "outputs": [
        {
          "output_type": "stream",
          "text": [
            "Go.\tМарш!\tCC-BY 2.0 (France) Attribution: tatoeba.org #2877272 (CM) & #1159202 (shanghainese)\n",
            "\n",
            "Go.\tИди.\tCC-BY 2.0 (France) Attribution: tatoeba.org #2877272 (CM) & #5898247 (marafon)\n",
            "\n",
            "Go.\tИдите.\tCC-BY 2.0 (France) Attribution: tatoeba.org #2877272 (CM) & #5898250 (marafon)\n",
            "\n",
            "Hi.\tЗдравствуйте.\tCC-BY 2.0 (France) Attribution: tatoeba.org #538123 (CM) & #402127 (odexed)\n",
            "\n",
            "Hi.\tПривет!\tCC-BY 2.0 (France) Attribution: tatoeba.org #538123 (CM) & #466968 (katjka)\n",
            "\n"
          ],
          "name": "stdout"
        }
      ]
    },
    {
      "cell_type": "markdown",
      "metadata": {
        "id": "L05FrRV0HLWz"
      },
      "source": [
        "## **Load the Data file and extract the Language pairs**\n",
        "Now load the `.txt` file which contains the English and Russian sentences and other information and extract the English-Russian Language pairs only by leaving the remaining data."
      ]
    },
    {
      "cell_type": "code",
      "metadata": {
        "id": "brWQr1jxHLWz"
      },
      "source": [
        "def load_file_into_pairs(file_name):\n",
        "  # Opening the File in Readmode\n",
        "  file_here = open(file_name, mode = 'rt', encoding = 'utf-8')\n",
        "  # Reading all the lines of the file\n",
        "  text = file_here.read()\n",
        "  # Close the file\n",
        "  file_here.close()\n",
        "  \n",
        "  # Extracting the sentences from the whole text\n",
        "  lines = text.strip().split('\\n')\n",
        "  # Splitting the values by tab indentation\n",
        "  pairs = [line.split('\\t') for line in lines]\n",
        "  return pairs"
      ],
      "execution_count": 5,
      "outputs": []
    },
    {
      "cell_type": "code",
      "metadata": {
        "colab": {
          "base_uri": "https://localhost:8080/"
        },
        "id": "7HfCA99THLW1",
        "outputId": "1e4cec08-8800-4707-bec1-3385dec12aba"
      },
      "source": [
        "# Now load the .txt file and read language pairs\n",
        "file_name = \"rus.txt\"\n",
        "data_pairs = load_file_into_pairs(file_name)\n",
        "data_pairs = array(data_pairs)\n",
        "# Check the language pairs\n",
        "for i in range(5):\n",
        "  print(data_pairs[i])"
      ],
      "execution_count": 6,
      "outputs": [
        {
          "output_type": "stream",
          "text": [
            "['Go.' 'Марш!'\n",
            " 'CC-BY 2.0 (France) Attribution: tatoeba.org #2877272 (CM) & #1159202 (shanghainese)']\n",
            "['Go.' 'Иди.'\n",
            " 'CC-BY 2.0 (France) Attribution: tatoeba.org #2877272 (CM) & #5898247 (marafon)']\n",
            "['Go.' 'Идите.'\n",
            " 'CC-BY 2.0 (France) Attribution: tatoeba.org #2877272 (CM) & #5898250 (marafon)']\n",
            "['Hi.' 'Здравствуйте.'\n",
            " 'CC-BY 2.0 (France) Attribution: tatoeba.org #538123 (CM) & #402127 (odexed)']\n",
            "['Hi.' 'Привет!'\n",
            " 'CC-BY 2.0 (France) Attribution: tatoeba.org #538123 (CM) & #466968 (katjka)']\n"
          ],
          "name": "stdout"
        }
      ]
    },
    {
      "cell_type": "markdown",
      "metadata": {
        "id": "hUaYGLQ1HLW1"
      },
      "source": [
        "The actual data contains over 4,31,097 sentence-pairs. But for now, we will use the first 50,000 sentence pairs only to reduce the training time of the model."
      ]
    },
    {
      "cell_type": "code",
      "metadata": {
        "id": "YdfR9vk4HLW1"
      },
      "source": [
        "data_pairs = data_pairs[:50000, :]"
      ],
      "execution_count": 7,
      "outputs": []
    },
    {
      "cell_type": "markdown",
      "metadata": {
        "id": "MZuRNAr7j0uP"
      },
      "source": [
        "## **Text Pro-processing Steps**\n",
        "### **Text Cleaning**\n",
        "#### **1. Removinga the punctuation marks**\n",
        "As we have observed many punctuations at the end of sentences let's get rid off of them first. \n"
      ]
    },
    {
      "cell_type": "code",
      "metadata": {
        "id": "4qcfrahNHLW3"
      },
      "source": [
        "#Split the Data pairs into Input data (features) and Output data (labels)\n",
        "rus = data_pairs[:, 1]\n",
        "eng = data_pairs[:, 0]\n",
        "\n",
        "# Remove punctuation\n",
        "rus = [s.translate(str.maketrans('', '', string.punctuation)) for s in rus]\n",
        "eng = [s.translate(str.maketrans('', '', string.punctuation)) for s in eng]"
      ],
      "execution_count": 8,
      "outputs": []
    },
    {
      "cell_type": "markdown",
      "metadata": {
        "id": "VPQHm8I3lMYc"
      },
      "source": [
        "#### **2. Converting the words to Lower Case**\n",
        "The sentences have words that are starting with upper case letters, so we have to convert them all into lower case ones."
      ]
    },
    {
      "cell_type": "code",
      "metadata": {
        "id": "9k9218J5HLW4",
        "scrolled": true
      },
      "source": [
        "# Convert to Lower Case\n",
        "for i in range(len(data_pairs)):\n",
        "    rus[i] = rus[i].lower()\n",
        "    eng[i] = eng[i].lower()"
      ],
      "execution_count": 9,
      "outputs": []
    },
    {
      "cell_type": "markdown",
      "metadata": {
        "id": "Kic8Hy-xHLW5"
      },
      "source": [
        "### **Text to Sequence Conversion**\n",
        "To feed the processed data in a Seq2Seq model, we will have to convert both the input and the output sentences into integer sequences of fixed length. "
      ]
    },
    {
      "cell_type": "code",
      "metadata": {
        "id": "9b5wJ3f3lsuI"
      },
      "source": [
        "# Let's visualise the length of the sentences\n",
        "eng_len = [len(word.split()) for word in eng]\n",
        "rus_len = [len(word.split()) for word in rus]"
      ],
      "execution_count": 10,
      "outputs": []
    },
    {
      "cell_type": "code",
      "metadata": {
        "colab": {
          "base_uri": "https://localhost:8080/"
        },
        "id": "CDuYO5KymMxd",
        "outputId": "ab14ca51-d722-4d5c-b599-400b9ad8ad38"
      },
      "source": [
        "print(f\"The maximum length of English sentences is {max(eng_len)}. \\nThe maximum length of Russian sentence is {max(rus_len)}.\")\n",
        "print(\"\\nSentences with max length are:\")\n",
        "print(eng[argmax(rus_len)])\n",
        "print(rus[argmax(rus_len)])"
      ],
      "execution_count": 11,
      "outputs": [
        {
          "output_type": "stream",
          "text": [
            "The maximum length of English sentences is 6. \n",
            "The maximum length of Russian sentence is 10.\n",
            "\n",
            "Sentences with max length are:\n",
            "money talks\n",
            "деньги есть — иван петрович денег нет — паршивый сволочь\n"
          ],
          "name": "stdout"
        }
      ]
    },
    {
      "cell_type": "markdown",
      "metadata": {
        "id": "_S1BWDflHLW6"
      },
      "source": [
        "The maximum length of the Russian sentences is 10 and that of the English sentences is 6."
      ]
    },
    {
      "cell_type": "markdown",
      "metadata": {
        "id": "Jc7rcPPamkl_"
      },
      "source": [
        "### **Tokenization**\n",
        "\n",
        "Now its time to vectorize our text data by using Keras's `Tokenizer()` class. It will turn our sentences into sequences of integers. Then we will pad those sequences with zeros to make all the sequences of same length."
      ]
    },
    {
      "cell_type": "code",
      "metadata": {
        "colab": {
          "base_uri": "https://localhost:8080/"
        },
        "id": "gqtpmjdems7f",
        "outputId": "cac3aac5-7f45-4f05-931c-bd09df947fc0"
      },
      "source": [
        "min_of_both = min(max(eng_len), max(rus_len))\n",
        "# Create English Tokenizer\n",
        "eng_tokenizer = Tokenizer()\n",
        "eng_tokenizer.fit_on_texts(eng)\n",
        "eng_vocab_size = len(eng_tokenizer.word_index) + 1\n",
        "eng_length = min_of_both\n",
        "\n",
        "# Create Russian Tokenizer\n",
        "rus_tokenizer = Tokenizer()\n",
        "rus_tokenizer.fit_on_texts(rus)\n",
        "rus_vocab_size = len(rus_tokenizer.word_index) + 1\n",
        "rus_length = min_of_both\n",
        "\n",
        "# Print the sizes of vocabulary\n",
        "print(f\"English Vocabulary Size: {eng_vocab_size}\\nRussian Vocabulary Size: {rus_vocab_size}\")"
      ],
      "execution_count": 12,
      "outputs": [
        {
          "output_type": "stream",
          "text": [
            "English Vocabulary Size: 4979\n",
            "Russian Vocabulary Size: 13609\n"
          ],
          "name": "stdout"
        }
      ]
    },
    {
      "cell_type": "markdown",
      "metadata": {
        "id": "MwbMbXdCm4St"
      },
      "source": [
        "## **Split the data into Train and Test Data**\n",
        "We will now split the data into train and test set for model training and evaluation, respectively. Russian sentences are Input  and English sentences are outptu for the model."
      ]
    },
    {
      "cell_type": "code",
      "metadata": {
        "id": "3-Eu6ZSem9_-"
      },
      "source": [
        "X_train, X_test, y_train, y_test = train_test_split(rus, eng, test_size = 0.2, random_state = 12)\n",
        "X_test_actual = X_test\n",
        "y_test_actual = y_test"
      ],
      "execution_count": 13,
      "outputs": []
    },
    {
      "cell_type": "code",
      "metadata": {
        "id": "yqUnSHfqnK99"
      },
      "source": [
        "# Create a method to prepare sequences\n",
        "def encode_sequences(tokenizer, length, lines):\n",
        "  # Integer encode sequences\n",
        "  return pad_sequences(tokenizer.texts_to_sequences(lines), maxlen = length, padding = 'post') "
      ],
      "execution_count": 14,
      "outputs": []
    },
    {
      "cell_type": "markdown",
      "metadata": {
        "id": "EtKYbRfLnzds"
      },
      "source": [
        "Now we will encode the sentences for both train and test datasets."
      ]
    },
    {
      "cell_type": "code",
      "metadata": {
        "id": "N_iRzIsOn0ns"
      },
      "source": [
        "# Prepare training data\n",
        "X_train = encode_sequences(rus_tokenizer, rus_length, X_train)\n",
        "y_train = encode_sequences(eng_tokenizer, eng_length, y_train)\n",
        "\n",
        "# Prepare testing data\n",
        "X_test = encode_sequences(rus_tokenizer, rus_length, X_test)\n",
        "y_test = encode_sequences(eng_tokenizer, eng_length, y_test)"
      ],
      "execution_count": 15,
      "outputs": []
    },
    {
      "cell_type": "markdown",
      "metadata": {
        "id": "VGH65zKdoX2u"
      },
      "source": [
        "## **Build Model**\n",
        "Now let's define our Seq2Seq model architecture. We will be using an Embedding layer and an LSTM layer as our Encoder and another LSTM layer followed by a Dense layer as the Decoder.\n"
      ]
    },
    {
      "cell_type": "code",
      "metadata": {
        "id": "hKQ1OnmtHLW-"
      },
      "source": [
        "units = 512\n",
        "# Build the Model\n",
        "model = Sequential()\n",
        "model.add(Embedding(rus_vocab_size, units, input_length = rus_length, mask_zero = True))\n",
        "model.add(LSTM(units))\n",
        "#model.add(LSTM(units, kernel_regularizer = l2(0.001)))\n",
        "model.add(Dropout(0.2))\n",
        "model.add(RepeatVector(eng_length))\n",
        "model.add(LSTM(units, return_sequences = True))\n",
        "model.add(Dense(eng_vocab_size, activation = 'softmax'))"
      ],
      "execution_count": 73,
      "outputs": []
    },
    {
      "cell_type": "markdown",
      "metadata": {
        "id": "-WiK1-ryHLW-"
      },
      "source": [
        "## **Compile the Model**\n",
        "We will use `RMSprop` optimizer and `sparse_categorical_crossentropy` loss function in this model as it is a good choice for RNNs."
      ]
    },
    {
      "cell_type": "code",
      "metadata": {
        "id": "VKoPH1IhqLA6"
      },
      "source": [
        "model.compile(\n",
        "    optimizer = optimizers.RMSprop(learning_rate=0.001), \n",
        "    loss = 'sparse_categorical_crossentropy', \n",
        "    metrics = ['accuracy']\n",
        ")"
      ],
      "execution_count": 74,
      "outputs": []
    },
    {
      "cell_type": "markdown",
      "metadata": {
        "id": "6bSnr4rHWjy1"
      },
      "source": [
        "## **Summarize the Model**"
      ]
    },
    {
      "cell_type": "code",
      "metadata": {
        "colab": {
          "base_uri": "https://localhost:8080/",
          "height": 1000
        },
        "id": "mVSXLQJNWoxm",
        "outputId": "675396ce-b585-4c2f-a9be-a2505f9e8a33"
      },
      "source": [
        "# Summarize the defined Model\n",
        "print(model.summary())\n",
        "plot_model(model, to_file='model.png', show_shapes=True)"
      ],
      "execution_count": 75,
      "outputs": [
        {
          "output_type": "stream",
          "text": [
            "Model: \"sequential_11\"\n",
            "_________________________________________________________________\n",
            "Layer (type)                 Output Shape              Param #   \n",
            "=================================================================\n",
            "embedding_11 (Embedding)     (None, 6, 512)            6967808   \n",
            "_________________________________________________________________\n",
            "lstm_22 (LSTM)               (None, 512)               2099200   \n",
            "_________________________________________________________________\n",
            "dropout_11 (Dropout)         (None, 512)               0         \n",
            "_________________________________________________________________\n",
            "repeat_vector_11 (RepeatVect (None, 6, 512)            0         \n",
            "_________________________________________________________________\n",
            "lstm_23 (LSTM)               (None, 6, 512)            2099200   \n",
            "_________________________________________________________________\n",
            "dense_11 (Dense)             (None, 6, 4979)           2554227   \n",
            "=================================================================\n",
            "Total params: 13,720,435\n",
            "Trainable params: 13,720,435\n",
            "Non-trainable params: 0\n",
            "_________________________________________________________________\n",
            "None\n"
          ],
          "name": "stdout"
        },
        {
          "output_type": "execute_result",
          "data": {
            "image/png": "[encoded data removed]",
            "text/plain": [
              "<IPython.core.display.Image object>"
            ]
          },
          "metadata": {
            "tags": []
          },
          "execution_count": 75
        }
      ]
    },
    {
      "cell_type": "markdown",
      "metadata": {
        "id": "TrYDBc5tqbFq"
      },
      "source": [
        "## **Train the Model**\n",
        "We will train the model for 30 epochs  with a batch size of 512. You may change and play these hyperparameters. We will also be using `ModelCheckpoint()` to save the best model with lowest validation loss. "
      ]
    },
    {
      "cell_type": "code",
      "metadata": {
        "colab": {
          "base_uri": "https://localhost:8080/"
        },
        "id": "Zvk7WbnWHLW_",
        "scrolled": true,
        "outputId": "290f7417-9a79-4579-9b20-1236cf1bc6ef"
      },
      "source": [
        "# Give a filename to save the model\n",
        "model_filename = 'model.h5'\n",
        "\n",
        "# Create a checkpoin to stop training based on minimum validation loss\n",
        "checkpoint = ModelCheckpoint(\n",
        "    model_filename, \n",
        "    monitor='val_loss',\n",
        "    mode = 'min',\n",
        "    verbose = 1, \n",
        "    save_best_only = True\n",
        ")\n",
        "\n",
        "# Start training on Train\n",
        "history = model.fit(\n",
        "    X_train, \n",
        "    y_train.reshape(y_train.shape[0], y_train.shape[1], 1), \n",
        "    epochs=30, \n",
        "    batch_size=512, \n",
        "    validation_split = 0.2,\n",
        "    callbacks=[checkpoint], \n",
        "    verbose=1\n",
        ")"
      ],
      "execution_count": 76,
      "outputs": [
        {
          "output_type": "stream",
          "text": [
            "Epoch 1/30\n",
            "63/63 [==============================] - 10s 90ms/step - loss: 4.8300 - accuracy: 0.4266 - val_loss: 3.3205 - val_accuracy: 0.4860\n",
            "\n",
            "Epoch 00001: val_loss improved from inf to 3.32048, saving model to model.h5\n",
            "Epoch 2/30\n",
            "63/63 [==============================] - 4s 58ms/step - loss: 3.2243 - accuracy: 0.4867 - val_loss: 3.1560 - val_accuracy: 0.4981\n",
            "\n",
            "Epoch 00002: val_loss improved from 3.32048 to 3.15600, saving model to model.h5\n",
            "Epoch 3/30\n",
            "63/63 [==============================] - 4s 57ms/step - loss: 3.0391 - accuracy: 0.5045 - val_loss: 2.9037 - val_accuracy: 0.5312\n",
            "\n",
            "Epoch 00003: val_loss improved from 3.15600 to 2.90365, saving model to model.h5\n",
            "Epoch 4/30\n",
            "63/63 [==============================] - 4s 57ms/step - loss: 2.7884 - accuracy: 0.5367 - val_loss: 2.7660 - val_accuracy: 0.5513\n",
            "\n",
            "Epoch 00004: val_loss improved from 2.90365 to 2.76599, saving model to model.h5\n",
            "Epoch 5/30\n",
            "63/63 [==============================] - 4s 58ms/step - loss: 2.5911 - accuracy: 0.5580 - val_loss: 2.5988 - val_accuracy: 0.5739\n",
            "\n",
            "Epoch 00005: val_loss improved from 2.76599 to 2.59885, saving model to model.h5\n",
            "Epoch 6/30\n",
            "63/63 [==============================] - 4s 58ms/step - loss: 2.4328 - accuracy: 0.5764 - val_loss: 2.4878 - val_accuracy: 0.5858\n",
            "\n",
            "Epoch 00006: val_loss improved from 2.59885 to 2.48781, saving model to model.h5\n",
            "Epoch 7/30\n",
            "63/63 [==============================] - 4s 57ms/step - loss: 2.2887 - accuracy: 0.5919 - val_loss: 2.3913 - val_accuracy: 0.5986\n",
            "\n",
            "Epoch 00007: val_loss improved from 2.48781 to 2.39133, saving model to model.h5\n",
            "Epoch 8/30\n",
            "63/63 [==============================] - 4s 59ms/step - loss: 2.1632 - accuracy: 0.6044 - val_loss: 2.3235 - val_accuracy: 0.6052\n",
            "\n",
            "Epoch 00008: val_loss improved from 2.39133 to 2.32349, saving model to model.h5\n",
            "Epoch 9/30\n",
            "63/63 [==============================] - 4s 59ms/step - loss: 2.0459 - accuracy: 0.6173 - val_loss: 2.2406 - val_accuracy: 0.6138\n",
            "\n",
            "Epoch 00009: val_loss improved from 2.32349 to 2.24057, saving model to model.h5\n",
            "Epoch 10/30\n",
            "63/63 [==============================] - 4s 58ms/step - loss: 1.9338 - accuracy: 0.6289 - val_loss: 2.1654 - val_accuracy: 0.6250\n",
            "\n",
            "Epoch 00010: val_loss improved from 2.24057 to 2.16537, saving model to model.h5\n",
            "Epoch 11/30\n",
            "63/63 [==============================] - 4s 59ms/step - loss: 1.8295 - accuracy: 0.6431 - val_loss: 2.1053 - val_accuracy: 0.6324\n",
            "\n",
            "Epoch 00011: val_loss improved from 2.16537 to 2.10528, saving model to model.h5\n",
            "Epoch 12/30\n",
            "63/63 [==============================] - 4s 58ms/step - loss: 1.7269 - accuracy: 0.6541 - val_loss: 2.0425 - val_accuracy: 0.6416\n",
            "\n",
            "Epoch 00012: val_loss improved from 2.10528 to 2.04247, saving model to model.h5\n",
            "Epoch 13/30\n",
            "63/63 [==============================] - 4s 59ms/step - loss: 1.6332 - accuracy: 0.6671 - val_loss: 1.9977 - val_accuracy: 0.6465\n",
            "\n",
            "Epoch 00013: val_loss improved from 2.04247 to 1.99765, saving model to model.h5\n",
            "Epoch 14/30\n",
            "63/63 [==============================] - 4s 58ms/step - loss: 1.5499 - accuracy: 0.6789 - val_loss: 1.9285 - val_accuracy: 0.6565\n",
            "\n",
            "Epoch 00014: val_loss improved from 1.99765 to 1.92853, saving model to model.h5\n",
            "Epoch 15/30\n",
            "63/63 [==============================] - 4s 57ms/step - loss: 1.4613 - accuracy: 0.6912 - val_loss: 1.8722 - val_accuracy: 0.6658\n",
            "\n",
            "Epoch 00015: val_loss improved from 1.92853 to 1.87217, saving model to model.h5\n",
            "Epoch 16/30\n",
            "63/63 [==============================] - 4s 58ms/step - loss: 1.3774 - accuracy: 0.7015 - val_loss: 1.8357 - val_accuracy: 0.6714\n",
            "\n",
            "Epoch 00016: val_loss improved from 1.87217 to 1.83565, saving model to model.h5\n",
            "Epoch 17/30\n",
            "63/63 [==============================] - 4s 58ms/step - loss: 1.3021 - accuracy: 0.7137 - val_loss: 1.7913 - val_accuracy: 0.6774\n",
            "\n",
            "Epoch 00017: val_loss improved from 1.83565 to 1.79133, saving model to model.h5\n",
            "Epoch 18/30\n",
            "63/63 [==============================] - 4s 58ms/step - loss: 1.2328 - accuracy: 0.7247 - val_loss: 1.7534 - val_accuracy: 0.6854\n",
            "\n",
            "Epoch 00018: val_loss improved from 1.79133 to 1.75345, saving model to model.h5\n",
            "Epoch 19/30\n",
            "63/63 [==============================] - 4s 57ms/step - loss: 1.1636 - accuracy: 0.7361 - val_loss: 1.7186 - val_accuracy: 0.6894\n",
            "\n",
            "Epoch 00019: val_loss improved from 1.75345 to 1.71865, saving model to model.h5\n",
            "Epoch 20/30\n",
            "63/63 [==============================] - 4s 57ms/step - loss: 1.1036 - accuracy: 0.7468 - val_loss: 1.6919 - val_accuracy: 0.6963\n",
            "\n",
            "Epoch 00020: val_loss improved from 1.71865 to 1.69186, saving model to model.h5\n",
            "Epoch 21/30\n",
            "63/63 [==============================] - 4s 58ms/step - loss: 1.0269 - accuracy: 0.7609 - val_loss: 1.6619 - val_accuracy: 0.6988\n",
            "\n",
            "Epoch 00021: val_loss improved from 1.69186 to 1.66189, saving model to model.h5\n",
            "Epoch 22/30\n",
            "63/63 [==============================] - 4s 58ms/step - loss: 0.9782 - accuracy: 0.7702 - val_loss: 1.6416 - val_accuracy: 0.7026\n",
            "\n",
            "Epoch 00022: val_loss improved from 1.66189 to 1.64158, saving model to model.h5\n",
            "Epoch 23/30\n",
            "63/63 [==============================] - 4s 57ms/step - loss: 0.9159 - accuracy: 0.7821 - val_loss: 1.6029 - val_accuracy: 0.7136\n",
            "\n",
            "Epoch 00023: val_loss improved from 1.64158 to 1.60292, saving model to model.h5\n",
            "Epoch 24/30\n",
            "63/63 [==============================] - 4s 58ms/step - loss: 0.8647 - accuracy: 0.7928 - val_loss: 1.5775 - val_accuracy: 0.7157\n",
            "\n",
            "Epoch 00024: val_loss improved from 1.60292 to 1.57753, saving model to model.h5\n",
            "Epoch 25/30\n",
            "63/63 [==============================] - 4s 59ms/step - loss: 0.8124 - accuracy: 0.8032 - val_loss: 1.5586 - val_accuracy: 0.7170\n",
            "\n",
            "Epoch 00025: val_loss improved from 1.57753 to 1.55863, saving model to model.h5\n",
            "Epoch 26/30\n",
            "63/63 [==============================] - 4s 59ms/step - loss: 0.7686 - accuracy: 0.8128 - val_loss: 1.5356 - val_accuracy: 0.7245\n",
            "\n",
            "Epoch 00026: val_loss improved from 1.55863 to 1.53564, saving model to model.h5\n",
            "Epoch 27/30\n",
            "63/63 [==============================] - 4s 58ms/step - loss: 0.7216 - accuracy: 0.8228 - val_loss: 1.5276 - val_accuracy: 0.7255\n",
            "\n",
            "Epoch 00027: val_loss improved from 1.53564 to 1.52765, saving model to model.h5\n",
            "Epoch 28/30\n",
            "63/63 [==============================] - 4s 59ms/step - loss: 0.6873 - accuracy: 0.8302 - val_loss: 1.5006 - val_accuracy: 0.7307\n",
            "\n",
            "Epoch 00028: val_loss improved from 1.52765 to 1.50064, saving model to model.h5\n",
            "Epoch 29/30\n",
            "63/63 [==============================] - 4s 59ms/step - loss: 0.6439 - accuracy: 0.8397 - val_loss: 1.4823 - val_accuracy: 0.7348\n",
            "\n",
            "Epoch 00029: val_loss improved from 1.50064 to 1.48233, saving model to model.h5\n",
            "Epoch 30/30\n",
            "63/63 [==============================] - 4s 59ms/step - loss: 0.6028 - accuracy: 0.8496 - val_loss: 1.4778 - val_accuracy: 0.7371\n",
            "\n",
            "Epoch 00030: val_loss improved from 1.48233 to 1.47783, saving model to model.h5\n"
          ],
          "name": "stdout"
        }
      ]
    },
    {
      "cell_type": "markdown",
      "metadata": {
        "id": "VBxP766hr3pE"
      },
      "source": [
        "The model has performed well for 30 epochs with accuracy of 97.25% and validation accuracy of 91.08%"
      ]
    },
    {
      "cell_type": "markdown",
      "metadata": {
        "id": "tOgE0USvHLXA"
      },
      "source": [
        "Let's compare the training and the validation metrics."
      ]
    },
    {
      "cell_type": "code",
      "metadata": {
        "id": "pJx4_JVkHLXA",
        "colab": {
          "base_uri": "https://localhost:8080/",
          "height": 295
        },
        "outputId": "b78b5e5a-a6c4-4539-cbf7-856166d57f72"
      },
      "source": [
        "plt.plot(history.history['loss'])\n",
        "plt.plot(history.history['val_loss'])\n",
        "plt.legend(['train','validation'])\n",
        "plt.title('Training vs Validation Loss')\n",
        "plt.xlabel(\"No. of Epochs\")\n",
        "plt.ylabel(\"Loss\")\n",
        "plt.show()"
      ],
      "execution_count": 68,
      "outputs": [
        {
          "output_type": "display_data",
          "data": {
            "image/png": "[encoded data removed]",
            "text/plain": [
              "<Figure size 432x288 with 1 Axes>"
            ]
          },
          "metadata": {
            "tags": [],
            "needs_background": "light"
          }
        }
      ]
    },
    {
      "cell_type": "code",
      "metadata": {
        "id": "VuYxK2J9N1IT",
        "colab": {
          "base_uri": "https://localhost:8080/",
          "height": 295
        },
        "outputId": "51b01a88-2de4-45f5-de30-841f2ad13286"
      },
      "source": [
        "plt.plot(history.history['accuracy'])\n",
        "plt.plot(history.history['val_accuracy'])\n",
        "plt.legend(['train','validation'])\n",
        "plt.title('Training vs Validation Accuracy')\n",
        "plt.xlabel(\"No. of Epochs\")\n",
        "plt.ylabel(\"Accuracy\")\n",
        "plt.show()"
      ],
      "execution_count": 59,
      "outputs": [
        {
          "output_type": "display_data",
          "data": {
            "image/png": "[encoded data removed]",
            "text/plain": [
              "<Figure size 432x288 with 1 Axes>"
            ]
          },
          "metadata": {
            "tags": [],
            "needs_background": "light"
          }
        }
      ]
    },
    {
      "cell_type": "markdown",
      "metadata": {
        "id": "hZC7b61-HLXB"
      },
      "source": [
        "## **Make Predictions**\n",
        "We have successfully created the model, compiled and trained it well. We have achieved good accuracy and minimum validation loss. It's time to make some real predictions on our Test data. Let's load the saved model to make predictions.<br>\n",
        "Let's load the saved model to get predictions on input text."
      ]
    },
    {
      "cell_type": "code",
      "metadata": {
        "id": "3FjB2fJBZ8ey"
      },
      "source": [
        "# Loading already saved model\n",
        "loaded_model = load_model('model.h5')"
      ],
      "execution_count": null,
      "outputs": []
    },
    {
      "cell_type": "markdown",
      "metadata": {
        "id": "CyRJGi8LunAu"
      },
      "source": [
        "Now get the predictions of all the Test data and save it. Later we will use it for cross referencing with our Actual data."
      ]
    },
    {
      "cell_type": "code",
      "metadata": {
        "id": "z3naYpRJHLXB"
      },
      "source": [
        "# Let's make predictions on our Test data and verify the results\n",
        "preds = argmax(loaded_model.predict(X_test.reshape((X_test.shape[0], X_test.shape[1]))), axis=-1)"
      ],
      "execution_count": null,
      "outputs": []
    },
    {
      "cell_type": "code",
      "metadata": {
        "id": "haZ8C1j7HLXB"
      },
      "source": [
        "def get_word(n, tokenizer):\n",
        "    for word, index in tokenizer.word_index.items():\n",
        "        if index == n:\n",
        "            return word\n",
        "    return None"
      ],
      "execution_count": null,
      "outputs": []
    },
    {
      "cell_type": "code",
      "metadata": {
        "id": "ZTiGl6x2HLXB"
      },
      "source": [
        "# convert predictions into text (English)\n",
        "preds_text = []\n",
        "for i in preds:\n",
        "    temp = []\n",
        "    for j in range(len(i)):\n",
        "        t = get_word(i[j], eng_tokenizer)\n",
        "        if j > 0:\n",
        "            if (t == get_word(i[j-1], eng_tokenizer)) or (t == None):\n",
        "                temp.append('')\n",
        "            else:\n",
        "                temp.append(t)\n",
        "             \n",
        "        else:\n",
        "            if(t == None):\n",
        "                temp.append('')\n",
        "            else:\n",
        "                temp.append(t)            \n",
        "        \n",
        "    preds_text.append(' '.join(temp))"
      ],
      "execution_count": null,
      "outputs": []
    },
    {
      "cell_type": "markdown",
      "metadata": {
        "id": "dlX0wGzmax7K"
      },
      "source": [
        "Now we will create a Dataframe for the Actual sentences and Predicted sentences to check how well our model is performing."
      ]
    },
    {
      "cell_type": "code",
      "metadata": {
        "id": "nfcSzyYTHLXC"
      },
      "source": [
        "pred_df = pd.DataFrame({'Actual' : y_test_actual, 'Predicted' : preds_text})"
      ],
      "execution_count": null,
      "outputs": []
    },
    {
      "cell_type": "markdown",
      "metadata": {
        "id": "b9VNLqRtbCY5"
      },
      "source": [
        "The Dataframe is created and we will compare the predictions with actual data."
      ]
    },
    {
      "cell_type": "code",
      "metadata": {
        "id": "L1nK7LkOHLXC"
      },
      "source": [
        "pd.set_option('display.max_colwidth', 200)"
      ],
      "execution_count": null,
      "outputs": []
    },
    {
      "cell_type": "markdown",
      "metadata": {
        "id": "4mkAAgyMbN1K"
      },
      "source": [
        "Let's check the first 10 sentences of Dataframe."
      ]
    },
    {
      "cell_type": "code",
      "metadata": {
        "id": "fXei4lzeHLXC"
      },
      "source": [
        "# Display top 10 rows\n",
        "pred_df.head(10)"
      ],
      "execution_count": null,
      "outputs": []
    },
    {
      "cell_type": "markdown",
      "metadata": {
        "id": "4GEQc9svbU8Y"
      },
      "source": [
        "Let's check the last 10 sentences of Dataframe."
      ]
    },
    {
      "cell_type": "code",
      "metadata": {
        "id": "yM8pPFe3HLXC"
      },
      "source": [
        "# Display bottom 10 rows\n",
        "pred_df.tail(10)"
      ],
      "execution_count": null,
      "outputs": []
    },
    {
      "cell_type": "markdown",
      "metadata": {
        "id": "TSSTMtPHbbdY"
      },
      "source": [
        "Let's check some random sentences of Dataframe."
      ]
    },
    {
      "cell_type": "code",
      "metadata": {
        "id": "Jpq1pDaiHLXD"
      },
      "source": [
        "# Display random samples\n",
        "pred_df.sample(10)"
      ],
      "execution_count": null,
      "outputs": []
    },
    {
      "cell_type": "markdown",
      "metadata": {
        "id": "yFS_PdCzaFyG"
      },
      "source": [
        "## **Make Predictions on Custom Data Input**\n",
        "Its time to have real fun. We have already created the model, trained it and tested it. Finally all looks good. Now we will take a custom input and try to translate it into English."
      ]
    },
    {
      "cell_type": "code",
      "metadata": {
        "id": "Yd5yOKJyLTJV"
      },
      "source": [
        "# Create a method to translate the Russian word into English\n",
        "def decode_output(text_in):\n",
        "  text_in = array([text_in])\n",
        "  # Input text proprecessing\n",
        "  # Remove punctuation\n",
        "  text_in = [s.translate(str.maketrans('', '', string.punctuation)) for s in text_in]\n",
        "  #text_in = \"\".join(text_in)\n",
        "  # Convert to Lower Case\n",
        "  for i in range(len(text_in)):\n",
        "    text_in[i] = text_in[i].lower()\n",
        "  # Encoding the sequence\n",
        "  text_in = encode_sequences(rus_tokenizer, rus_length, text_in)\n",
        "  # Getting predictions on single input sentence\n",
        "  preds = argmax(loaded_model.predict(text_in.reshape(text_in.shape[0], text_in.shape[1])), axis=-1)\n",
        "  def get_word(n, tokenizer):\n",
        "      for word, index in tokenizer.word_index.items():\n",
        "          if index == n:\n",
        "              return word\n",
        "      return None\n",
        "\n",
        "  # Convert predictions into text (English)\n",
        "  preds_text = []\n",
        "  for i in preds:\n",
        "      temp = []\n",
        "      for j in range(len(i)):\n",
        "          t = get_word(i[j], eng_tokenizer)\n",
        "          if j > 0:\n",
        "              if (t == get_word(i[j-1], eng_tokenizer)) or (t == None):\n",
        "                  temp.append('')\n",
        "              else:\n",
        "                  temp.append(t)             \n",
        "          else:\n",
        "              if(t == None):\n",
        "                  temp.append('')\n",
        "              else:\n",
        "                  temp.append(t)       \n",
        "      preds_text.append(' '.join(temp))\n",
        "  return preds_text[0].strip()"
      ],
      "execution_count": null,
      "outputs": []
    },
    {
      "cell_type": "code",
      "metadata": {
        "id": "0-uhnMmmRS2n"
      },
      "source": [
        "# Input text\n",
        "text_in = \"Входи!\"\n",
        "text_out = decode_output(text_in)\n",
        "print(f\"The input Russian sentence is : {text_in}\")\n",
        "print(f\"The output English sentence is: {text_out}\")"
      ],
      "execution_count": null,
      "outputs": []
    }
  ]
}